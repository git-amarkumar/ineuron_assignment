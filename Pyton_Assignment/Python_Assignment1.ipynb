{
 "cells": [
  {
   "cell_type": "code",
   "execution_count": 1,
   "id": "9cbb44a9",
   "metadata": {},
   "outputs": [
    {
     "name": "stdout",
     "output_type": "stream",
     "text": [
      "Hello Python\n"
     ]
    }
   ],
   "source": [
    "## 1. Write a Python program to print \"Hello Python\"?\n",
    "\n",
    "print(\"Hello Python\")\n"
   ]
  },
  {
   "cell_type": "code",
   "execution_count": 4,
   "id": "a9ada215",
   "metadata": {},
   "outputs": [
    {
     "name": "stdout",
     "output_type": "stream",
     "text": [
      "Enter your first digit56\n",
      "Enter your 2nd digit67\n",
      "Add result: 123\n",
      "Div result: 0.835820895522388\n"
     ]
    }
   ],
   "source": [
    "### 2. Write a Python program to do arithmetical operations addition and division.?\n",
    "num1 = int(input(\"Enter your first digit\"))\n",
    "num2 = int(input(\"Enter your 2nd digit\"))\n",
    "\n",
    "Add = num1+num2\n",
    "div = num1/num2\n",
    "\n",
    "print(\"Add result:\",Add)\n",
    "print(\"Div result:\",div)\n"
   ]
  },
  {
   "cell_type": "code",
   "execution_count": 5,
   "id": "40fcf314",
   "metadata": {},
   "outputs": [
    {
     "name": "stdout",
     "output_type": "stream",
     "text": [
      "Enter the base length of a traingle: 28\n",
      "Enter the height length of the traingle: 8\n",
      "Area of Traingle: 112.0\n"
     ]
    }
   ],
   "source": [
    "### 3. Write a Python program to find the area of a triangle?\n",
    "\n",
    "base = float(input(\"Enter the base length of a traingle: \"))\n",
    "height = float(input(\"Enter the height length of the traingle: \"))\n",
    "\n",
    "area = (base*height)/2\n",
    "print(\"Area of Traingle:\",area)"
   ]
  },
  {
   "cell_type": "code",
   "execution_count": 8,
   "id": "ab568f85",
   "metadata": {},
   "outputs": [
    {
     "name": "stdout",
     "output_type": "stream",
     "text": [
      "Enter you 1st number: 5\n",
      "Enter your 2nd number: 67\n",
      " Before swapping \n",
      "lst number:  5.0\n",
      "2st number:  67.0\n",
      " After swapping \n",
      "lst number:  67.0\n",
      "2st number:  5.0\n"
     ]
    }
   ],
   "source": [
    "### Write a Python program to swap two variables?\n",
    "\n",
    "a = float(input('Enter you 1st number: '))\n",
    "b = float(input('Enter your 2nd number: '))\n",
    "\n",
    "print(\" Before swapping \")\n",
    "print(\"lst number: \",a)\n",
    "print(\"2st number: \",b)\n",
    "\n",
    "temp = a \n",
    "a = b\n",
    "b =temp\n",
    "\n",
    "print(\" After swapping \")\n",
    "print(\"lst number: \",a)\n",
    "print(\"2st number: \",b)\n"
   ]
  },
  {
   "cell_type": "code",
   "execution_count": 13,
   "id": "3c7b068e",
   "metadata": {},
   "outputs": [
    {
     "name": "stdout",
     "output_type": "stream",
     "text": [
      "Random number: 40\n"
     ]
    }
   ],
   "source": [
    "### 5. Write a Python program to generate a random number?\n",
    "\n",
    "import random\n",
    "\n",
    "# Generate a random number between 1 and 100\n",
    "random_number = random.randint(1, 100)\n",
    "\n",
    "# Print the generated random number\n",
    "print(\"Random number:\", random_number)\n"
   ]
  },
  {
   "cell_type": "code",
   "execution_count": null,
   "id": "186c10f9",
   "metadata": {},
   "outputs": [],
   "source": []
  }
 ],
 "metadata": {
  "kernelspec": {
   "display_name": "Python 3 (ipykernel)",
   "language": "python",
   "name": "python3"
  },
  "language_info": {
   "codemirror_mode": {
    "name": "ipython",
    "version": 3
   },
   "file_extension": ".py",
   "mimetype": "text/x-python",
   "name": "python",
   "nbconvert_exporter": "python",
   "pygments_lexer": "ipython3",
   "version": "3.10.9"
  }
 },
 "nbformat": 4,
 "nbformat_minor": 5
}
