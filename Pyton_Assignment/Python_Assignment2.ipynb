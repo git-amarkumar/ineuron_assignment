{
 "cells": [
  {
   "cell_type": "code",
   "execution_count": 4,
   "id": "d434cc1c",
   "metadata": {},
   "outputs": [
    {
     "name": "stdout",
     "output_type": "stream",
     "text": [
      "Enter the kilometer : 10\n",
      "Total miles:  6.2137119 Miles\n"
     ]
    }
   ],
   "source": [
    "### 1. Write a Python program to convert kilometers to miles?\n",
    "\n",
    "km = float(input('Enter the kilometer : '))\n",
    "\n",
    "miles = km * 0.62137119\n",
    "\n",
    "print('Total miles: ',miles,\"Miles\")\n"
   ]
  },
  {
   "cell_type": "code",
   "execution_count": 5,
   "id": "4117bc24",
   "metadata": {},
   "outputs": [
    {
     "name": "stdout",
     "output_type": "stream",
     "text": [
      "Enter the temperature in Celsius : 25\n",
      "Fahrenheit temperature =  77.0\n"
     ]
    }
   ],
   "source": [
    "### 2.Write a Python program to convert Celsius to Fahrenheit?\n",
    "\n",
    "Celsius = float(input('Enter the temperature in Celsius : '))\n",
    "\n",
    "Fahrenheit = (Celsius * 9/5) + 32\n",
    "\n",
    "print('Fahrenheit temperature = ',Fahrenheit)"
   ]
  },
  {
   "cell_type": "code",
   "execution_count": 22,
   "id": "8a87be3b",
   "metadata": {},
   "outputs": [
    {
     "name": "stdout",
     "output_type": "stream",
     "text": [
      "   November 2014\n",
      "Mo Tu We Th Fr Sa Su\n",
      "                1  2\n",
      " 3  4  5  6  7  8  9\n",
      "10 11 12 13 14 15 16\n",
      "17 18 19 20 21 22 23\n",
      "24 25 26 27 28 29 30\n",
      "\n"
     ]
    }
   ],
   "source": [
    "## 3. Write a Python program to display calendar?\n",
    "\n",
    "# importing calendar module\n",
    "import calendar\n",
    "\n",
    "yy = 2014  # year\n",
    "mm = 11    # month\n",
    "\n",
    "# display the calendar\n",
    "print(calendar.month(yy, mm))\n",
    "\n"
   ]
  },
  {
   "cell_type": "code",
   "execution_count": 31,
   "id": "c85aeea0",
   "metadata": {},
   "outputs": [
    {
     "name": "stdout",
     "output_type": "stream",
     "text": [
      "Enter the value of a : 1\n",
      "Enter the value of b : 5\n",
      "Enter the value of c : 6\n",
      "The solution are (-3+0j) and (-2+0j)\n"
     ]
    }
   ],
   "source": [
    "### 4. Write a Python program to solve quadratic equation?\n",
    "\n",
    "# import complex math module\n",
    "import cmath\n",
    "\n",
    "a = int(input('Enter the value of a : '))\n",
    "b = int(input('Enter the value of b : '))\n",
    "c = int(input('Enter the value of c : '))\n",
    "\n",
    "# calculate the discriminant\n",
    "d = (b**2) - (4*a*c)\n",
    "\n",
    "# find two solutions\n",
    "sol1 = (-b-cmath.sqrt(d))/(2*a)\n",
    "sol2 = (-b+cmath.sqrt(d))/(2*a)\n",
    "\n",
    "print('The solution are {0} and {1}'.format(sol1,sol2))\n"
   ]
  },
  {
   "cell_type": "code",
   "execution_count": 39,
   "id": "fe265310",
   "metadata": {},
   "outputs": [
    {
     "name": "stdout",
     "output_type": "stream",
     "text": [
      " Enter your first no : 4\n",
      " Enter your second no : 5\n",
      "before swap\n",
      "first is :  4.0\n",
      "second is :  5.0\n",
      "after swap\n",
      "first is :  5.0\n",
      "second is :  4.0\n"
     ]
    }
   ],
   "source": [
    "## 5. Write a Python program to swap two variables without temp variable?\n",
    "\n",
    "a = float(input(\" Enter your first no : \"))\n",
    "b = float(input(\" Enter your second no : \"))\n",
    "\n",
    "print('before swap')\n",
    "print('first is : ',a)\n",
    "print('second is : ',b)\n",
    "\n",
    "a = a+b\n",
    "b = a-b\n",
    "a = a-b\n",
    "\n",
    "print('after swap')\n",
    "print('first is : ',a)\n",
    "print('second is : ',b)\n"
   ]
  },
  {
   "cell_type": "code",
   "execution_count": null,
   "id": "f7e2e910",
   "metadata": {},
   "outputs": [],
   "source": []
  }
 ],
 "metadata": {
  "kernelspec": {
   "display_name": "Python 3 (ipykernel)",
   "language": "python",
   "name": "python3"
  },
  "language_info": {
   "codemirror_mode": {
    "name": "ipython",
    "version": 3
   },
   "file_extension": ".py",
   "mimetype": "text/x-python",
   "name": "python",
   "nbconvert_exporter": "python",
   "pygments_lexer": "ipython3",
   "version": "3.10.9"
  }
 },
 "nbformat": 4,
 "nbformat_minor": 5
}
